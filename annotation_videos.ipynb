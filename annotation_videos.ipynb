{
 "cells": [
  {
   "cell_type": "markdown",
   "metadata": {},
   "source": [
    "# annotation_videos\n",
    "\n",
    "* 一定尺の動画に限定し人力でアノテーションします\n",
    "* アノテーションしたデータを元に改めて訓練データを作成します"
   ]
  },
  {
   "cell_type": "code",
   "execution_count": 122,
   "metadata": {},
   "outputs": [],
   "source": [
    "# Pythonの基本ライブラリ\n",
    "import numpy as np\n",
    "import pandas as pd\n",
    "import matplotlib.pyplot as plt\n",
    "\n",
    "# ファイル操作\n",
    "import os\n",
    "import glob\n",
    "\n",
    "# 画像の保存\n",
    "import requests\n",
    "\n",
    "# Jupyter上にHTMLを表示する\n",
    "from IPython.display import HTML"
   ]
  },
  {
   "cell_type": "code",
   "execution_count": 124,
   "metadata": {},
   "outputs": [
    {
     "name": "stdout",
     "output_type": "stream",
     "text": [
      "全動画数: 839\n"
     ]
    }
   ],
   "source": [
    "# 取得した全動画情報を抽出する\n",
    "file_select = 'okakoro'\n",
    "# file_select = 'hololive'\n",
    "# file_select = 'hololive_update'\n",
    "file_names = glob.glob('output/videos/'+file_select+'/*')\n",
    "\n",
    "# 日本語用の分類器を利用するため一旦英語圏の動画は除外する\n",
    "eng_file_names = [\n",
    "    'Airani Iofifteen_videos.csv', \n",
    "    'Anya Melfissa_videos.csv', \n",
    "    'Ayunda Risu_videos.csv', \n",
    "    'Gawr Gura_videos.csv', \n",
    "    'hololive Indonesia_videos.csv', \n",
    "    'Kureiji Ollie_videos.csv', \n",
    "    'Moona Hoshinova_videos.csv', \n",
    "    'Mori Calliope_videos.csv', \n",
    "    'Ninomae Inanis_videos.csv', \n",
    "    'Pavolia Reine_videos.csv', \n",
    "    'Takanashi Kiara_videos.csv', \n",
    "    'Watson Amelia_videos.csv'\n",
    "]\n",
    "\n",
    "for eng_file_name in eng_file_names:\n",
    "    if eng_file_name in file_names:\n",
    "        file_names.remove('output/videos/'+file_select+'/'+eng_file_name)\n",
    "\n",
    "for i, file_name in enumerate(file_names):\n",
    "    videos = pd.read_csv(file_name, index_col=0)\n",
    "    # テーブルを結合する\n",
    "    if i == 0:\n",
    "        all_videos = videos\n",
    "    else:\n",
    "        all_videos = pd.concat([all_videos, videos])\n",
    "\n",
    "# DescriptionがNanのケースがあるため補完する\n",
    "all_videos = all_videos.fillna('Description=Nan')\n",
    "# indexを振り直す\n",
    "all_videos = all_videos.reset_index()\n",
    "# 変なラベルが付与されているのを整理\n",
    "all_videos = all_videos.drop(['index'], axis=1)\n",
    "\n",
    "print(\"全動画数:\", all_videos.shape[0])"
   ]
  },
  {
   "cell_type": "code",
   "execution_count": 145,
   "metadata": {},
   "outputs": [],
   "source": [
    "# サムネイルを表示する\n",
    "def output_html(videos, top_n=10):\n",
    "    if top_n <= 0:\n",
    "        top_n = videos.shape[0]\n",
    "        \n",
    "    indexes = np.arange(videos.shape[0])[0:top_n]        \n",
    "    html = '<h1>動画一覧を表示</h1>'\n",
    "    html += '<div style=\"float:left;\">'\n",
    "    for i in indexes:\n",
    "        html += ('<img src=\"'+np.array(videos['Thumbnail'])[i] +' \"alt=\"取得できませんでした\" width=\"100\">')\n",
    "        html += ('<a href=\"https://www.youtube.com/watch?v='+np.array(videos['Id'])[i]+'\">#'+str(i+1)+'. '+np.array(videos['Title'])[i]+'</a><br>')\n",
    "        # html += (' Label='+str(np.array(videos['Label'])[i])+'<br>')\n",
    "    html += '</div>'\n",
    "    return html"
   ]
  },
  {
   "cell_type": "code",
   "execution_count": 126,
   "metadata": {},
   "outputs": [
    {
     "name": "stdout",
     "output_type": "stream",
     "text": [
      "再生時間によるフィルタリング後： 32\n"
     ]
    }
   ],
   "source": [
    "# 再生時間によるフィルタリング、1分〜8分に設定（1コーラスを考慮）\n",
    "filetered_videos = all_videos[np.logical_and(all_videos['Duration']<480, all_videos['Duration']>60)]\n",
    "print(\"再生時間によるフィルタリング後：\", filetered_videos.shape[0])\n",
    "# HTML(output_html(filetered_videos, top_n=10))"
   ]
  },
  {
   "cell_type": "code",
   "execution_count": 128,
   "metadata": {},
   "outputs": [
    {
     "name": "stderr",
     "output_type": "stream",
     "text": [
      "/Users/shinkaitomomichi/opt/anaconda3/envs/study-youtube/lib/python3.7/site-packages/ipykernel_launcher.py:24: FutureWarning: elementwise comparison failed; returning scalar instead, but in the future will perform elementwise comparison\n"
     ]
    }
   ],
   "source": [
    "# サムネイルをunlabeledディレクトリに保存\n",
    "os.makedirs('output/thumbnails/'+file_select+'/unlabeled/', exist_ok=True)\n",
    "os.makedirs('output/thumbnails/'+file_select+'/label_0/', exist_ok=True)\n",
    "os.makedirs('output/thumbnails/'+file_select+'/label_1/', exist_ok=True)\n",
    "\n",
    "thumbnails = np.array(filetered_videos['Thumbnail'])\n",
    "video_ids = np.array(filetered_videos['Id'])\n",
    "video_ids_label_0, video_ids_label_1 = [], []\n",
    "for file_name in glob.glob('output/thumbnails/'+file_select+'/label_0/*'):\n",
    "    file_name = file_name.replace('output/thumbnails/'+file_select+'/label_0/', '').replace('.png', '')\n",
    "    video_ids_label_0.append(file_name)\n",
    "for file_name in glob.glob('output/thumbnails/'+file_select+'/label_1/*'):\n",
    "    file_name = file_name.replace('output/thumbnails/'+file_select+'/label_1/', '').replace('.png', '')\n",
    "    video_ids_label_1.append(file_name)\n",
    "video_ids_label_0 = np.array(video_ids_label_0)\n",
    "video_ids_label_1 = np.array(video_ids_label_1)\n",
    "    \n",
    "for i, thumbnail in enumerate(thumbnails):\n",
    "    response = requests.get(thumbnail)\n",
    "    image = response.content\n",
    "    video_id = video_ids[i]\n",
    "    \n",
    "    # label_0, label_1に保存済みのデータであれば保存しない\n",
    "    if video_id in video_ids_label_0 or video_id in video_ids_label_1:\n",
    "        pass\n",
    "    else:\n",
    "        file_name = 'output/thumbnails/'+file_select+'/unlabeled/'+video_ids[i]+'.png'\n",
    "        with open(file_name, \"wb\") as tmp:\n",
    "            tmp.write(image)"
   ]
  },
  {
   "cell_type": "markdown",
   "metadata": {},
   "source": [
    "## ここでアノテーションを実施する（画像を適切なフォルダに分ける）"
   ]
  },
  {
   "cell_type": "code",
   "execution_count": 147,
   "metadata": {},
   "outputs": [
    {
     "name": "stdout",
     "output_type": "stream",
     "text": [
      "再生時間によるフィルタリング後： 32\n"
     ]
    }
   ],
   "source": [
    "video_ids = np.array(all_videos['Id'])\n",
    "concatenated_videos_tmp = []\n",
    "for label in range(2):\n",
    "    # アノテーションされたデータを再収集\n",
    "    video_ids_labeled = glob.glob('output/thumbnails/'+file_select+'/label_'+str(label)+'/*')\n",
    "    for i, video_id in enumerate(video_ids_labeled):\n",
    "        video_id = video_id.replace('output/thumbnails/'+file_select+'/label_'+str(label)+'/', '')\n",
    "        video_id = video_id.replace('.png', '')\n",
    "        # 元のデータセットにある場合にデータセットを取り出す\n",
    "        if video_id in video_ids:\n",
    "            video = all_videos.loc[all_videos['Id']==video_id]\n",
    "            video.loc[:, 'Label'] = label\n",
    "            concatenated_videos_tmp.append(video)\n",
    "\n",
    "# アノテーションされていないデータを再収集\n",
    "video_ids_unlabeled = glob.glob('output/thumbnails/'+file_select+'/unlabeled/*')\n",
    "for i, video_id in enumerate(video_ids_unlabeled):\n",
    "    video_id = video_id.replace('output/thumbnails/'+file_select+'/unlabeled/', '')\n",
    "    video_id = video_id.replace('.png', '')\n",
    "    if video_id in video_ids:\n",
    "        video = all_videos.loc[all_videos['Id']==video_id]\n",
    "        video.loc[:, 'Label'] = -1\n",
    "        concatenated_videos_tmp.append(video)\n",
    "            \n",
    "for i, video in enumerate(concatenated_videos_tmp):\n",
    "    if i == 0:\n",
    "        concatenated_videos = video\n",
    "    else:\n",
    "        concatenated_videos = pd.concat([concatenated_videos, video])\n",
    "\n",
    "concatenated_videos = concatenated_videos.reset_index()\n",
    "concatenated_videos = concatenated_videos.drop(['index'], axis=1)\n",
    "concatenated_videos.to_csv('output/train/'+file_select+'/videos.csv')\n",
    "\n",
    "print(\"再生時間によるフィルタリング後：\", concatenated_videos.shape[0])"
   ]
  },
  {
   "cell_type": "code",
   "execution_count": 148,
   "metadata": {},
   "outputs": [
    {
     "data": {
      "text/html": [
       "<h1>動画一覧を表示</h1><div style=\"float:left;\"><img src=\"https://i.ytimg.com/vi/hlwojkAO61A/hqdefault.jpg \"alt=\"取得できませんでした\" width=\"100\"><a href=\"https://www.youtube.com/watch?v=hlwojkAO61A\">#1. 早口言葉、噛んだら即終了！</a><br> Label=0<br><img src=\"https://i.ytimg.com/vi/3uZof09cUlA/hqdefault.jpg \"alt=\"取得できませんでした\" width=\"100\"><a href=\"https://www.youtube.com/watch?v=3uZof09cUlA\">#2. 8位以下なら即終了・リベンジのリベンジ・エターナル・ファイナルラスト</a><br> Label=0<br><img src=\"https://i.ytimg.com/vi/s0gdhZun6sw/hqdefault.jpg \"alt=\"取得できませんでした\" width=\"100\"><a href=\"https://www.youtube.com/watch?v=s0gdhZun6sw\">#3. 【視聴者さんかかってこい！】8位以下で即就労マリオカート８DX</a><br> Label=0<br><img src=\"https://i.ytimg.com/vi/QjchQkPVU54/hqdefault.jpg \"alt=\"取得できませんでした\" width=\"100\"><a href=\"https://www.youtube.com/watch?v=QjchQkPVU54\">#4. ころねのモーニング☆ルーティーン～幸せのあとの苦しみ編～</a><br> Label=0<br><img src=\"https://i.ytimg.com/vi/RfUWTuwb_S8/hqdefault.jpg \"alt=\"取得できませんでした\" width=\"100\"><a href=\"https://www.youtube.com/watch?v=RfUWTuwb_S8\">#5. 【マリオＵＳＡ】しんだら即終了！！リベンジだ！！！【戌神ころね/ホロライブ】</a><br> Label=0<br><img src=\"https://i.ytimg.com/vi/AYoFfOGfSAk/hqdefault.jpg \"alt=\"取得できませんでした\" width=\"100\"><a href=\"https://www.youtube.com/watch?v=AYoFfOGfSAk\">#6. 8位以下なら即終了・ザ・リベンジ・オブ・ころね</a><br> Label=0<br><img src=\"https://i.ytimg.com/vi/lue2Dp4clm4/hqdefault.jpg \"alt=\"取得できませんでした\" width=\"100\"><a href=\"https://www.youtube.com/watch?v=lue2Dp4clm4\">#7. 8以下ならそく終了！！！まとめてかかってこい！！！！！</a><br> Label=0<br><img src=\"https://i.ytimg.com/vi/dzWDHmWi3fI/hqdefault.jpg \"alt=\"取得できませんでした\" width=\"100\"><a href=\"https://www.youtube.com/watch?v=dzWDHmWi3fI\">#8. 【マリオＵＳＡ】しんだら即終了！！リベンジのリベンジだ！！！【戌神ころね/ホロライブ】</a><br> Label=0<br><img src=\"https://i.ytimg.com/vi/jGkOdq3qZbc/hqdefault.jpg \"alt=\"取得できませんでした\" width=\"100\"><a href=\"https://www.youtube.com/watch?v=jGkOdq3qZbc\">#9. 戌神ころねオリジナルBGM「ころねレイザー 戌More!」</a><br> Label=0<br><img src=\"https://i.ytimg.com/vi/a01mjY_1ifY/hqdefault.jpg \"alt=\"取得できませんでした\" width=\"100\"><a href=\"https://www.youtube.com/watch?v=a01mjY_1ifY\">#10. スーパーマリオブラザーズ2、しんだら即終了！！</a><br> Label=0<br></div>"
      ],
      "text/plain": [
       "<IPython.core.display.HTML object>"
      ]
     },
     "execution_count": 148,
     "metadata": {},
     "output_type": "execute_result"
    }
   ],
   "source": [
    "# 改めてアノテーションが正しいかを確認\n",
    "filetered_videos = pd.read_csv('output/train/'+file_select+'/videos.csv', index_col=0)\n",
    "HTML(output_html(filetered_videos, top_n=10))"
   ]
  }
 ],
 "metadata": {
  "kernelspec": {
   "display_name": "study-youtube",
   "language": "python",
   "name": "study-youtube"
  },
  "language_info": {
   "codemirror_mode": {
    "name": "ipython",
    "version": 3
   },
   "file_extension": ".py",
   "mimetype": "text/x-python",
   "name": "python",
   "nbconvert_exporter": "python",
   "pygments_lexer": "ipython3",
   "version": "3.7.10"
  }
 },
 "nbformat": 4,
 "nbformat_minor": 4
}
