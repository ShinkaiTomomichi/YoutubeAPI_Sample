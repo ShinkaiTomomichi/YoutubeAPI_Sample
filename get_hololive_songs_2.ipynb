{
 "cells": [
  {
   "cell_type": "code",
   "execution_count": 1,
   "metadata": {},
   "outputs": [],
   "source": [
    "# Pythonの基本ライブラリ\n",
    "import numpy as np\n",
    "import pandas as pd\n",
    "import matplotlib.pyplot as plt\n",
    "\n",
    "import glob\n",
    "\n",
    "# 画像の保存\n",
    "import os\n",
    "import pprint\n",
    "import time\n",
    "import urllib.error\n",
    "import urllib.request\n",
    "\n",
    "# Jupyter上にHTMLを表示する\n",
    "from IPython.display import HTML"
   ]
  },
  {
   "cell_type": "code",
   "execution_count": 3,
   "metadata": {},
   "outputs": [],
   "source": [
    "def output_html(videos, top_n=10, shuffle=True):\n",
    "    html = '<h1>動画一覧を表示</h1>'\n",
    "    html += '<div style=\"float:left;\">'\n",
    "    if shuffle:\n",
    "        indexes = np.random.choice(videos.shape[0], size=top_n, replace=False)\n",
    "    else:\n",
    "        indexes = np.arange(videos.shape[0])[0:top_n]        \n",
    "    \n",
    "    for i in indexes:            \n",
    "        html += ('<img src=\"'+np.array(videos['Thumbnail'])[i] +' \"alt=\"取得できませんでした\" width=\"100\">')\n",
    "        # サンプルIDを入れておく\n",
    "        html += ('<a href=\"https://www.youtube.com/watch?v='+np.array(videos['Id'])[i]+'\">#'+str(i+1)+'. '+np.array(videos['Title'])[i]+'</a><br>')\n",
    "    html += '</div>'\n",
    "    return html"
   ]
  },
  {
   "cell_type": "code",
   "execution_count": 5,
   "metadata": {},
   "outputs": [
    {
     "name": "stdout",
     "output_type": "stream",
     "text": [
      "全動画数: 7165\n"
     ]
    }
   ],
   "source": [
    "# 取得した全動画情報を抽出する\n",
    "\n",
    "holo_filenames = glob.glob(\"output/hololive/*\")\n",
    "# holo_filenames = glob.glob(\"output/okakoro/*\")\n",
    "\n",
    "for i, holo_filename in enumerate(holo_filenames):\n",
    "    holo_videos = pd.read_csv(holo_filename, index_col=0)\n",
    "    # テーブルを結合する\n",
    "    if i == 0:\n",
    "        all_holo_videos = holo_videos\n",
    "    else:\n",
    "        all_holo_videos = pd.concat([all_holo_videos, holo_videos])\n",
    "\n",
    "# DescriptionがNanのケースがあるため補完する\n",
    "all_holo_videos = all_holo_videos.fillna('')\n",
    "# indexを振り直す\n",
    "all_holo_videos = all_holo_videos.reset_index()\n",
    "\n",
    "print(\"全動画数:\", all_holo_videos.shape[0])\n",
    "# HTML(output_html(all_holo_videos))"
   ]
  },
  {
   "cell_type": "code",
   "execution_count": null,
   "metadata": {},
   "outputs": [],
   "source": [
    "# 機械学習を用いて分類を試みる"
   ]
  }
 ],
 "metadata": {
  "kernelspec": {
   "display_name": "study-youtube",
   "language": "python",
   "name": "study-youtube"
  },
  "language_info": {
   "codemirror_mode": {
    "name": "ipython",
    "version": 3
   },
   "file_extension": ".py",
   "mimetype": "text/x-python",
   "name": "python",
   "nbconvert_exporter": "python",
   "pygments_lexer": "ipython3",
   "version": "3.7.10"
  }
 },
 "nbformat": 4,
 "nbformat_minor": 4
}
