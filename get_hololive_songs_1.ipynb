{
 "cells": [
  {
   "cell_type": "code",
   "execution_count": 97,
   "metadata": {},
   "outputs": [],
   "source": [
    "# Pythonの基本ライブラリ\n",
    "import numpy as np\n",
    "import pandas as pd\n",
    "import matplotlib.pyplot as plt\n",
    "\n",
    "import glob\n",
    "\n",
    "# 画像の保存\n",
    "import os\n",
    "import pprint\n",
    "import time\n",
    "import urllib.error\n",
    "import urllib.request\n",
    "\n",
    "# Jupyter上にHTMLを表示する\n",
    "from IPython.display import HTML"
   ]
  },
  {
   "cell_type": "code",
   "execution_count": 98,
   "metadata": {},
   "outputs": [],
   "source": [
    "def output_html(videos, top_n=10, shuffle=True):\n",
    "    html = '<h1>動画一覧を表示</h1>'\n",
    "    html += '<div style=\"float:left;\">'\n",
    "    if shuffle:\n",
    "        indexes = np.random.choice(videos.shape[0], size=top_n, replace=False)\n",
    "    else:\n",
    "        indexes = np.arange(videos.shape[0])[0:top_n]        \n",
    "    \n",
    "    for i in indexes:            \n",
    "        html += ('<img src=\"'+np.array(videos['Thumbnail'])[i] +' \"alt=\"取得できませんでした\" width=\"100\">')\n",
    "        # サンプルIDを入れておく\n",
    "        html += ('<a href=\"https://www.youtube.com/watch?v='+np.array(videos['Id'])[i]+'\">#'+str(i+1)+'. '+np.array(videos['Title'])[i]+'</a><br>')\n",
    "    html += '</div>'\n",
    "    return html"
   ]
  },
  {
   "cell_type": "code",
   "execution_count": 99,
   "metadata": {},
   "outputs": [
    {
     "name": "stdout",
     "output_type": "stream",
     "text": [
      "全動画数: 7165\n"
     ]
    }
   ],
   "source": [
    "# 取得した全動画情報を抽出する\n",
    "\n",
    "holo_filenames = glob.glob(\"output/hololive/*\")\n",
    "# holo_filenames = glob.glob(\"output/okakoro/*\")\n",
    "\n",
    "for i, holo_filename in enumerate(holo_filenames):\n",
    "    holo_videos = pd.read_csv(holo_filename, index_col=0)\n",
    "    # テーブルを結合する\n",
    "    if i == 0:\n",
    "        all_holo_videos = holo_videos\n",
    "    else:\n",
    "        all_holo_videos = pd.concat([all_holo_videos, holo_videos])\n",
    "\n",
    "# DescriptionがNanのケースがあるため補完する\n",
    "all_holo_videos = all_holo_videos.fillna('')\n",
    "# indexを振り直す\n",
    "all_holo_videos = all_holo_videos.reset_index()\n",
    "\n",
    "print(\"全動画数:\", all_holo_videos.shape[0])\n",
    "# HTML(output_html(all_holo_videos))"
   ]
  },
  {
   "cell_type": "code",
   "execution_count": 100,
   "metadata": {},
   "outputs": [
    {
     "name": "stdout",
     "output_type": "stream",
     "text": [
      "再生時間によるフィルタリング後： 517\n"
     ]
    }
   ],
   "source": [
    "# フィルタリング1：再生時間によるフィルタリング\n",
    "\n",
    "# 再生時間で曲っぽく無いものは除外\n",
    "# 1分〜8分に設定（1コーラスを考慮し）\n",
    "filetered_time_videos = all_holo_videos[np.logical_and(all_holo_videos['Duration']<480, \n",
    "                                                            all_holo_videos['Duration']>60)]\n",
    "\n",
    "print(\"再生時間によるフィルタリング後：\", filetered_time_videos.shape[0])\n",
    "# HTML(output_html(filetered_time_videos))"
   ]
  },
  {
   "cell_type": "code",
   "execution_count": 101,
   "metadata": {},
   "outputs": [
    {
     "name": "stdout",
     "output_type": "stream",
     "text": [
      "カテゴリによるフィルタリング後： 421\n"
     ]
    }
   ],
   "source": [
    "# フィルタリング2：カテゴリによるフィルタリング\n",
    "\n",
    "# 音楽はCategoryId=10(音楽), 24(エンターテイメント)以外のものは無いと仮定する\n",
    "filetered_category_videos = filetered_time_videos[np.logical_or(filetered_time_videos['CategoryId']==10,\n",
    "                                                                filetered_time_videos['CategoryId']==24)]\n",
    "\n",
    "print(\"カテゴリによるフィルタリング後：\", filetered_category_videos.shape[0])\n",
    "# HTML(output_html(filetered_time_category))"
   ]
  },
  {
   "cell_type": "code",
   "execution_count": 102,
   "metadata": {},
   "outputs": [
    {
     "name": "stdout",
     "output_type": "stream",
     "text": [
      "概要欄によるフィルタリング後： 273\n"
     ]
    }
   ],
   "source": [
    "# フィルタリング3：Descriptionによるフィルタリング\n",
    "filtered_desc_index_plus = np.zeros(n)\n",
    "filtered_desc_index_minus = np.zeros(n)\n",
    "descs = np.array(filetered_category_videos['Description'])\n",
    "\n",
    "# Descriptionに\"歌ってみた\"などが入る動画は高い可能性で歌動画と判断\n",
    "desc_keywords_jap = ['歌', '作詞', '作曲', '編曲', '原曲', '本家', '歌唱', 'ボーカル', 'ミックス']\n",
    "desc_keywords_eng = ['SONG', 'MV', 'VOCAL', 'MIX']\n",
    "desc_keywords = []\n",
    "desc_keywords.extend(desc_keywords_jap)\n",
    "desc_keywords.extend(desc_keywords_eng)\n",
    "for i, desc in enumerate(descs):\n",
    "    desc_upper = desc.upper()\n",
    "    for keyword in desc_keywords:\n",
    "        if keyword in desc:\n",
    "            filtered_desc_index_plus[i] += 1\n",
    "\n",
    "# 逆に\"実況\"や\"アニメ\"など入っている場合は歌動画ではないと判断\n",
    "# しかし、概要欄の紹介などで入る可能性も高いため一旦保留とする\n",
    "# desc_stopwords = []\n",
    "# for i, desc in enumerate(descs):\n",
    "#     desc_upper = desc.upper()\n",
    "#     for keyword in desc_stopwords:\n",
    "#         if keyword in desc:\n",
    "#             filtered_desc_index_minus[i] += 1\n",
    "\n",
    "filetered_desc_videos = filetered_category_videos[filtered_desc_index_plus > 0]\n",
    "print(\"概要欄によるフィルタリング後：\", filetered_desc_videos.shape[0])\n",
    "# HTML(output_html(filetered_desc_videos))"
   ]
  },
  {
   "cell_type": "code",
   "execution_count": 103,
   "metadata": {},
   "outputs": [
    {
     "data": {
      "text/html": [
       "<h1>動画一覧を表示</h1><div style=\"float:left;\"><img src=\"https://i.ytimg.com/vi/-wNSFmqhQsU/hqdefault.jpg \"alt=\"取得できませんでした\" width=\"100\"><a href=\"https://www.youtube.com/watch?v=-wNSFmqhQsU\">#1. 【ゾンビランドサガ】フランシュシュ「佐賀事変」/ 星街すいせい with ホロライブファンタジー(Cover)</a><br><img src=\"https://i.ytimg.com/vi/vQHVGXdcqEQ/hqdefault.jpg \"alt=\"取得できませんでした\" width=\"100\"><a href=\"https://www.youtube.com/watch?v=vQHVGXdcqEQ\">#2. NEXT COLOR PLANET / 星街すいせい(official)</a><br><img src=\"https://i.ytimg.com/vi/zLak0dxBKpM/hqdefault.jpg \"alt=\"取得できませんでした\" width=\"100\"><a href=\"https://www.youtube.com/watch?v=zLak0dxBKpM\">#3. 天球、彗星は夜を跨いで / 星街すいせい(official)</a><br><img src=\"https://i.ytimg.com/vi/0scxODT68X4/hqdefault.jpg \"alt=\"取得できませんでした\" width=\"100\"><a href=\"https://www.youtube.com/watch?v=0scxODT68X4\">#4. ウミユリ海底譚 / 猫又おかゆ(cover)</a><br><img src=\"https://i.ytimg.com/vi/NT6Pf28eCgQ/hqdefault.jpg \"alt=\"取得できませんでした\" width=\"100\"><a href=\"https://www.youtube.com/watch?v=NT6Pf28eCgQ\">#5. 【侵略されて】エイリアンエイリアン 歌ってみた - ときのそら【踊ってみた】</a><br><img src=\"https://i.ytimg.com/vi/4muYzftomAE/hqdefault.jpg \"alt=\"取得できませんでした\" width=\"100\"><a href=\"https://www.youtube.com/watch?v=4muYzftomAE\">#6. flos / 猫又おかゆ (Cover)</a><br><img src=\"https://i.ytimg.com/vi/2l_6oIGTrbg/hqdefault.jpg \"alt=\"取得できませんでした\" width=\"100\"><a href=\"https://www.youtube.com/watch?v=2l_6oIGTrbg\">#7. 「君の名は。」スパークル/RADWIMPS Cover by大神ミオ【歌ってみた/4K】</a><br><img src=\"https://i.ytimg.com/vi/OXAkx5_A9rE/hqdefault.jpg \"alt=\"取得できませんでした\" width=\"100\"><a href=\"https://www.youtube.com/watch?v=OXAkx5_A9rE\">#8. KING／Covered by紫咲シオン【歌ってみた】</a><br><img src=\"https://i.ytimg.com/vi/Ur0K2WA67jw/hqdefault.jpg \"alt=\"取得できませんでした\" width=\"100\"><a href=\"https://www.youtube.com/watch?v=Ur0K2WA67jw\">#9. 【5人で】Alice in N.Y.【歌ってみた/ホロALICE】</a><br><img src=\"https://i.ytimg.com/vi/z1W4c7ym49Y/hqdefault.jpg \"alt=\"取得できませんでした\" width=\"100\"><a href=\"https://www.youtube.com/watch?v=z1W4c7ym49Y\">#10. 【歌ってみた】グッバイ宣言 / 百鬼あやめ cover</a><br></div>"
      ],
      "text/plain": [
       "<IPython.core.display.HTML object>"
      ]
     },
     "execution_count": 103,
     "metadata": {},
     "output_type": "execute_result"
    }
   ],
   "source": [
    "# ランキングにして可視化\n",
    "\n",
    "sorted_videos = filetered_desc_videos.sort_values(by='Viewcount', ascending=False)\n",
    "HTML(output_html(sorted_videos, shuffle=False))"
   ]
  }
 ],
 "metadata": {
  "kernelspec": {
   "display_name": "study-youtube",
   "language": "python",
   "name": "study-youtube"
  },
  "language_info": {
   "codemirror_mode": {
    "name": "ipython",
    "version": 3
   },
   "file_extension": ".py",
   "mimetype": "text/x-python",
   "name": "python",
   "nbconvert_exporter": "python",
   "pygments_lexer": "ipython3",
   "version": "3.7.10"
  }
 },
 "nbformat": 4,
 "nbformat_minor": 4
}
