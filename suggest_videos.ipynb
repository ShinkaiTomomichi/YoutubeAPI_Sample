{
 "cells": [
  {
   "cell_type": "markdown",
   "metadata": {},
   "source": [
    "# suggest_videos\n",
    "\n",
    "* 歌動画を適当な推薦アルゴリズムを使って推薦します"
   ]
  },
  {
   "cell_type": "code",
   "execution_count": 1,
   "metadata": {},
   "outputs": [],
   "source": [
    "# Pythonの基本ライブラリ\n",
    "import numpy as np\n",
    "import pandas as pd\n",
    "import matplotlib.pyplot as plt\n",
    "\n",
    "# ファイル操作\n",
    "import os\n",
    "import glob\n",
    "\n",
    "# Jupyter上にHTMLを表示する\n",
    "from IPython.display import HTML\n",
    "\n",
    "from sklearn.manifold import TSNE"
   ]
  },
  {
   "cell_type": "code",
   "execution_count": 66,
   "metadata": {},
   "outputs": [
    {
     "name": "stdout",
     "output_type": "stream",
     "text": [
      "全動画数: 17\n"
     ]
    },
    {
     "data": {
      "text/html": [
       "<div>\n",
       "<style scoped>\n",
       "    .dataframe tbody tr th:only-of-type {\n",
       "        vertical-align: middle;\n",
       "    }\n",
       "\n",
       "    .dataframe tbody tr th {\n",
       "        vertical-align: top;\n",
       "    }\n",
       "\n",
       "    .dataframe thead th {\n",
       "        text-align: right;\n",
       "    }\n",
       "</style>\n",
       "<table border=\"1\" class=\"dataframe\">\n",
       "  <thead>\n",
       "    <tr style=\"text-align: right;\">\n",
       "      <th></th>\n",
       "      <th>Id</th>\n",
       "      <th>Channel</th>\n",
       "      <th>Date</th>\n",
       "      <th>Title</th>\n",
       "      <th>Thumbnail</th>\n",
       "      <th>ViewCount</th>\n",
       "      <th>CommentIds</th>\n",
       "    </tr>\n",
       "  </thead>\n",
       "  <tbody>\n",
       "    <tr>\n",
       "      <th>0</th>\n",
       "      <td>JqwKeddXPOg</td>\n",
       "      <td>Okayu Ch. 猫又おかゆ</td>\n",
       "      <td>2021-07-09T12:00:15Z</td>\n",
       "      <td>p.h. / 猫又おかゆ(cover)</td>\n",
       "      <td>https://i.ytimg.com/vi/JqwKeddXPOg/hqdefault.jpg</td>\n",
       "      <td>3597111</td>\n",
       "      <td>UC1B0CXYaWdjXrPorG3syFlA,UCOwDr6a-HsQxGLIpK1vQ...</td>\n",
       "    </tr>\n",
       "    <tr>\n",
       "      <th>1</th>\n",
       "      <td>G49bAinM6Lc</td>\n",
       "      <td>Korone Ch. 戌神ころね</td>\n",
       "      <td>2020-02-22T12:15:11Z</td>\n",
       "      <td>恋愛裁判　Ver.戌神ころね</td>\n",
       "      <td>https://i.ytimg.com/vi/G49bAinM6Lc/hqdefault.jpg</td>\n",
       "      <td>7745172</td>\n",
       "      <td>UCesNuEgizYMsZtXVqUH4Btw,UCW_Ck9VtTjZ3b19jSWqW...</td>\n",
       "    </tr>\n",
       "    <tr>\n",
       "      <th>2</th>\n",
       "      <td>4muYzftomAE</td>\n",
       "      <td>Okayu Ch. 猫又おかゆ</td>\n",
       "      <td>2020-08-28T11:00:12Z</td>\n",
       "      <td>flos / 猫又おかゆ (Cover)</td>\n",
       "      <td>https://i.ytimg.com/vi/4muYzftomAE/hqdefault.jpg</td>\n",
       "      <td>11707193</td>\n",
       "      <td>UCI_LsU1fN_B9-04gofaSDLg,UCbGbi2OMR04k1dtqQVGm...</td>\n",
       "    </tr>\n",
       "  </tbody>\n",
       "</table>\n",
       "</div>"
      ],
      "text/plain": [
       "            Id           Channel                  Date                 Title  \\\n",
       "0  JqwKeddXPOg   Okayu Ch. 猫又おかゆ  2021-07-09T12:00:15Z   p.h. / 猫又おかゆ(cover)   \n",
       "1  G49bAinM6Lc  Korone Ch. 戌神ころね  2020-02-22T12:15:11Z        恋愛裁判　Ver.戌神ころね   \n",
       "2  4muYzftomAE   Okayu Ch. 猫又おかゆ  2020-08-28T11:00:12Z  flos / 猫又おかゆ (Cover)   \n",
       "\n",
       "                                          Thumbnail  ViewCount  \\\n",
       "0  https://i.ytimg.com/vi/JqwKeddXPOg/hqdefault.jpg    3597111   \n",
       "1  https://i.ytimg.com/vi/G49bAinM6Lc/hqdefault.jpg    7745172   \n",
       "2  https://i.ytimg.com/vi/4muYzftomAE/hqdefault.jpg   11707193   \n",
       "\n",
       "                                          CommentIds  \n",
       "0  UC1B0CXYaWdjXrPorG3syFlA,UCOwDr6a-HsQxGLIpK1vQ...  \n",
       "1  UCesNuEgizYMsZtXVqUH4Btw,UCW_Ck9VtTjZ3b19jSWqW...  \n",
       "2  UCI_LsU1fN_B9-04gofaSDLg,UCbGbi2OMR04k1dtqQVGm...  "
      ]
     },
     "execution_count": 66,
     "metadata": {},
     "output_type": "execute_result"
    }
   ],
   "source": [
    "# trainsetから動画を取得する\n",
    "file_select = 'okakoro'\n",
    "comments = pd.read_csv('output/train/'+file_select+'/comments.csv', index_col=0)\n",
    "print(\"全動画数:\", comments.shape[0])\n",
    "comments.head(3)"
   ]
  },
  {
   "cell_type": "code",
   "execution_count": 41,
   "metadata": {},
   "outputs": [
    {
     "name": "stdout",
     "output_type": "stream",
     "text": [
      "5052\n"
     ]
    }
   ],
   "source": [
    "# コメントしているChannelIdを数値に変換\n",
    "ids_tmp = []\n",
    "for i, row in comments.iterrows():    \n",
    "    comment_ids_string = row['CommentIds']\n",
    "    comment_ids = comment_ids_string.split(',')\n",
    "    ids_tmp.append(list(set(comment_ids)))\n",
    "flatted_ids = [item for l in ids_tmp for item in l] # listの平滑化\n",
    "# unique_ids = np.array(list(set(unique_ids))) # setを使ってuniqueなものを取り出す\n",
    "# n = unique_ids.shape[0]\n",
    "# print(n)\n",
    "\n",
    "# コメントが2つ以上存在する場合のみ取り出す\n",
    "sorted_flatted_ids = sorted(flatted_ids)\n",
    "double = []\n",
    "ids_prev = \"\"\n",
    "for i, ids in enumerate(sorted_flatted_ids):\n",
    "    if ids_prev == ids:\n",
    "        double.append(ids)\n",
    "    ids_prev = ids\n",
    "unique_ids = np.array(list(set(double))) # setを使ってuniqueなものを取り出す\n",
    "n = unique_ids.shape[0]\n",
    "print(n)"
   ]
  },
  {
   "cell_type": "code",
   "execution_count": 43,
   "metadata": {},
   "outputs": [],
   "source": [
    "# 計算量に無駄が多いので以下などを参考に改良したい\n",
    "# https://qiita.com/ground0state/items/f516b97c7a8641e474c4\n",
    "# X = []\n",
    "# for i, row in comments.iterrows():\n",
    "#     print(i+1, '/', comments.shape[0])\n",
    "#     zeros = np.zeros(n)\n",
    "#     comment_ids_string = row['CommentIds']\n",
    "#     comment_ids = comment_ids_string.split(',')\n",
    "#     ids = []\n",
    "#     for comment_id in comment_ids:\n",
    "#         ids.append(np.where(unique_ids == comment_id)[0][0])\n",
    "#     ids = np.array(ids)\n",
    "#     zeros[ids] = 1\n",
    "#     X.append(zeros)\n",
    "# X = np.array(X)\n",
    "\n",
    "X = []\n",
    "for i, row in comments.iterrows():\n",
    "    zeros = np.zeros(n)\n",
    "    comment_ids_string = row['CommentIds']\n",
    "    comment_ids = comment_ids_string.split(',')\n",
    "    ids = []\n",
    "    for comment_id in comment_ids:\n",
    "        where = np.where(unique_ids == comment_id)[0]\n",
    "        if where.size != 0:\n",
    "            ids.append(where[0])\n",
    "    ids = np.array(ids)\n",
    "    zeros[ids] = 1\n",
    "    X.append(zeros)\n",
    "X = np.array(X)"
   ]
  },
  {
   "cell_type": "code",
   "execution_count": 46,
   "metadata": {},
   "outputs": [],
   "source": [
    "comment_ids_modified = []\n",
    "channels_modified = []\n",
    "\n",
    "# 二件以上コメントを残していないユーザは削除する\n",
    "# X_sum = np.sum(X, axis=0)\n",
    "# useful_ids = np.where(X_sum > 1)[0]\n",
    "# X_modified = X.T[useful_ids].T\n",
    "\n",
    "for i, row in comments.iterrows():\n",
    "    comment_id_modified = np.where(X[i] == 1)[0]\n",
    "    comment_id_modified = comment_id_modified.astype(str)\n",
    "    comment_id_modified_string = ','.join(comment_id_modified)\n",
    "    comment_ids_modified.append(comment_id_modified_string)\n",
    "comment_ids_modified = np.array(comment_ids_modified)\n",
    "\n",
    "# channelIDも同様に数値化\n",
    "unique_channels_tmp = np.array(comments['Channel'])\n",
    "unique_channels = np.array(list(set(unique_channels_tmp)))\n",
    "n = unique_channels.shape[0]\n",
    "    \n",
    "for i, row in comments.iterrows():\n",
    "    channel = row['Channel']\n",
    "    channels_modified.append(np.where(unique_channels == channel)[0][0])\n",
    "channels_modified = np.array(channels_modified)"
   ]
  },
  {
   "cell_type": "code",
   "execution_count": 47,
   "metadata": {},
   "outputs": [
    {
     "data": {
      "image/png": "[encoded data removed]",
      "text/plain": [
       "<Figure size 640x480 with 1 Axes>"
      ]
     },
     "metadata": {},
     "output_type": "display_data"
    }
   ],
   "source": [
    "# コメント数の頻度分布を確認する\n",
    "X_sum = np.sum(X, axis=0)\n",
    " \n",
    "# ヒストグラム\n",
    "fig = plt.figure()\n",
    "ax = fig.add_subplot(1, 1, 1)\n",
    "ax.hist(X_sum, bins=np.arange(20)+1, histtype='barstacked', ec='black')\n",
    "plt.show()"
   ]
  },
  {
   "cell_type": "code",
   "execution_count": 72,
   "metadata": {},
   "outputs": [],
   "source": [
    "# IDを数値に置き換えたものを保存\n",
    "comments['ChannelModified'] = channels_modified\n",
    "comments['CommentIdsModified'] = comment_ids_modified\n",
    "if 'CommentIds' in comments.columns:\n",
    "    comments = comments.drop(['CommentIds'], axis=1)\n",
    "comments.to_csv('output/train/'+file_select+'/comments_modified.csv')"
   ]
  },
  {
   "cell_type": "code",
   "execution_count": 73,
   "metadata": {},
   "outputs": [
    {
     "name": "stdout",
     "output_type": "stream",
     "text": [
      "全動画数: 17\n"
     ]
    },
    {
     "data": {
      "text/html": [
       "<div>\n",
       "<style scoped>\n",
       "    .dataframe tbody tr th:only-of-type {\n",
       "        vertical-align: middle;\n",
       "    }\n",
       "\n",
       "    .dataframe tbody tr th {\n",
       "        vertical-align: top;\n",
       "    }\n",
       "\n",
       "    .dataframe thead th {\n",
       "        text-align: right;\n",
       "    }\n",
       "</style>\n",
       "<table border=\"1\" class=\"dataframe\">\n",
       "  <thead>\n",
       "    <tr style=\"text-align: right;\">\n",
       "      <th></th>\n",
       "      <th>Id</th>\n",
       "      <th>Channel</th>\n",
       "      <th>Date</th>\n",
       "      <th>Title</th>\n",
       "      <th>Thumbnail</th>\n",
       "      <th>ViewCount</th>\n",
       "      <th>ChannelModified</th>\n",
       "      <th>CommentIdsModified</th>\n",
       "    </tr>\n",
       "  </thead>\n",
       "  <tbody>\n",
       "    <tr>\n",
       "      <th>0</th>\n",
       "      <td>JqwKeddXPOg</td>\n",
       "      <td>Okayu Ch. 猫又おかゆ</td>\n",
       "      <td>2021-07-09T12:00:15Z</td>\n",
       "      <td>p.h. / 猫又おかゆ(cover)</td>\n",
       "      <td>https://i.ytimg.com/vi/JqwKeddXPOg/hqdefault.jpg</td>\n",
       "      <td>3597111</td>\n",
       "      <td>1</td>\n",
       "      <td>7,14,24,25,29,31,35,39,42,58,59,79,80,82,84,10...</td>\n",
       "    </tr>\n",
       "    <tr>\n",
       "      <th>1</th>\n",
       "      <td>G49bAinM6Lc</td>\n",
       "      <td>Korone Ch. 戌神ころね</td>\n",
       "      <td>2020-02-22T12:15:11Z</td>\n",
       "      <td>恋愛裁判　Ver.戌神ころね</td>\n",
       "      <td>https://i.ytimg.com/vi/G49bAinM6Lc/hqdefault.jpg</td>\n",
       "      <td>7745172</td>\n",
       "      <td>0</td>\n",
       "      <td>4,9,12,30,44,54,63,71,76,82,90,97,113,127,137,...</td>\n",
       "    </tr>\n",
       "    <tr>\n",
       "      <th>2</th>\n",
       "      <td>4muYzftomAE</td>\n",
       "      <td>Okayu Ch. 猫又おかゆ</td>\n",
       "      <td>2020-08-28T11:00:12Z</td>\n",
       "      <td>flos / 猫又おかゆ (Cover)</td>\n",
       "      <td>https://i.ytimg.com/vi/4muYzftomAE/hqdefault.jpg</td>\n",
       "      <td>11707193</td>\n",
       "      <td>1</td>\n",
       "      <td>6,7,23,25,26,28,34,35,36,40,45,46,50,51,57,62,...</td>\n",
       "    </tr>\n",
       "  </tbody>\n",
       "</table>\n",
       "</div>"
      ],
      "text/plain": [
       "            Id           Channel                  Date                 Title  \\\n",
       "0  JqwKeddXPOg   Okayu Ch. 猫又おかゆ  2021-07-09T12:00:15Z   p.h. / 猫又おかゆ(cover)   \n",
       "1  G49bAinM6Lc  Korone Ch. 戌神ころね  2020-02-22T12:15:11Z        恋愛裁判　Ver.戌神ころね   \n",
       "2  4muYzftomAE   Okayu Ch. 猫又おかゆ  2020-08-28T11:00:12Z  flos / 猫又おかゆ (Cover)   \n",
       "\n",
       "                                          Thumbnail  ViewCount  \\\n",
       "0  https://i.ytimg.com/vi/JqwKeddXPOg/hqdefault.jpg    3597111   \n",
       "1  https://i.ytimg.com/vi/G49bAinM6Lc/hqdefault.jpg    7745172   \n",
       "2  https://i.ytimg.com/vi/4muYzftomAE/hqdefault.jpg   11707193   \n",
       "\n",
       "   ChannelModified                                 CommentIdsModified  \n",
       "0                1  7,14,24,25,29,31,35,39,42,58,59,79,80,82,84,10...  \n",
       "1                0  4,9,12,30,44,54,63,71,76,82,90,97,113,127,137,...  \n",
       "2                1  6,7,23,25,26,28,34,35,36,40,45,46,50,51,57,62,...  "
      ]
     },
     "execution_count": 73,
     "metadata": {},
     "output_type": "execute_result"
    }
   ],
   "source": [
    "# IDを数値に変換したファイルを読み込む\n",
    "comments = pd.read_csv('output/train/'+file_select+'/comments_modified.csv', index_col=0)\n",
    "print(\"全動画数:\", comments.shape[0])\n",
    "comments.head(3)"
   ]
  },
  {
   "cell_type": "code",
   "execution_count": 75,
   "metadata": {},
   "outputs": [],
   "source": [
    "comment_ids_modified = np.array(comments['CommentIdsModified'])\n",
    "comment_id_max = 0\n",
    "for i, row in comments.iterrows():\n",
    "    comment_ids = np.array(comment_ids_modified[i].split(','))\n",
    "    comment_ids = comment_ids.astype(int)\n",
    "    if comment_id_max < np.max(comment_ids):\n",
    "        comment_id_max = np.max(comment_ids)+1\n",
    "\n",
    "X = np.zeros((comments.shape[0], comment_id_max))\n",
    "for i, row in comments.iterrows():\n",
    "    comment_ids = np.array(comment_ids_modified[i].split(','))\n",
    "    comment_ids = comment_ids.astype(int)\n",
    "    X[i][comment_ids] = 1"
   ]
  },
  {
   "cell_type": "markdown",
   "metadata": {},
   "source": [
    "* 適当なアルゴリズムで推薦を行う"
   ]
  },
  {
   "cell_type": "code",
   "execution_count": 76,
   "metadata": {},
   "outputs": [],
   "source": [
    "def output_html(videos, top_n=10):\n",
    "    if top_n <= 0:\n",
    "        top_n = videos.shape[0]\n",
    "        \n",
    "    indexes = np.arange(videos.shape[0])[0:top_n]        \n",
    "    html = '<h1>動画一覧を表示</h1>'\n",
    "    html += '<div style=\"float:left;\">'\n",
    "    for i in indexes:\n",
    "        html += ('<img src=\"'+np.array(videos['Thumbnail'])[i] +' \"alt=\"取得できませんでした\" width=\"100\">')\n",
    "        # サンプルIDを入れておく\n",
    "        html += ('<a href=\"https://www.youtube.com/watch?v='+np.array(videos['Id'])[i]+'\">#'+str(i)+'. '+np.array(videos['Title'])[i]+'</a><br>')\n",
    "    html += '</div>'\n",
    "    return html"
   ]
  },
  {
   "cell_type": "code",
   "execution_count": 80,
   "metadata": {},
   "outputs": [
    {
     "data": {
      "text/html": [
       "<h1>動画一覧を表示</h1><div style=\"float:left;\"><img src=\"https://i.ytimg.com/vi/JqwKeddXPOg/hqdefault.jpg \"alt=\"取得できませんでした\" width=\"100\"><a href=\"https://www.youtube.com/watch?v=JqwKeddXPOg\">#0. p.h. / 猫又おかゆ(cover)</a><br><img src=\"https://i.ytimg.com/vi/G49bAinM6Lc/hqdefault.jpg \"alt=\"取得できませんでした\" width=\"100\"><a href=\"https://www.youtube.com/watch?v=G49bAinM6Lc\">#1. 恋愛裁判　Ver.戌神ころね</a><br><img src=\"https://i.ytimg.com/vi/4muYzftomAE/hqdefault.jpg \"alt=\"取得できませんでした\" width=\"100\"><a href=\"https://www.youtube.com/watch?v=4muYzftomAE\">#2. flos / 猫又おかゆ (Cover)</a><br></div>"
      ],
      "text/plain": [
       "<IPython.core.display.HTML object>"
      ]
     },
     "execution_count": 80,
     "metadata": {},
     "output_type": "execute_result"
    }
   ],
   "source": [
    "HTML(output_html(comments, top_n=3))"
   ]
  },
  {
   "cell_type": "code",
   "execution_count": 88,
   "metadata": {},
   "outputs": [
    {
     "name": "stdout",
     "output_type": "stream",
     "text": [
      "閲覧した動画\n",
      "ふわふわ時間 / 猫又おかゆ (Cover)\n",
      "オススメの動画\n",
      "2 flos / 猫又おかゆ (Cover)\n",
      "7 もぐもぐYUMMY！/ 猫又おかゆ\n",
      "4 失楽ペトリ / 猫又おかゆ(cover)\n",
      "\n",
      "閲覧した動画\n",
      "【original】ころねの最凶天災☆わんだふぉー❤わーるど【戌神ころね/ホロライブ】\n",
      "オススメの動画\n",
      "7 もぐもぐYUMMY！/ 猫又おかゆ\n",
      "16 キャットアイメイク / 猫又おかゆ (Cover)\n",
      "4 失楽ペトリ / 猫又おかゆ(cover)\n",
      "\n"
     ]
    }
   ],
   "source": [
    "# 自分のお気に入りの動画を指定する（ID指定）\n",
    "histories = [5, 10]\n",
    "# 182. 【歌ってみた】グッバイ宣言 / 潤羽るしあ cover\n",
    "# 219. うっせぇわ／天音かなた＆常闇トワ(Cover)\n",
    "\n",
    "# historyの動画の一件のコメントした人を取得\n",
    "titles = np.array(comments['Title'])\n",
    "channels = np.array(comments['ChannelModified'])\n",
    "\n",
    "# 推薦動画の取り出し\n",
    "# 単純に再生数（コメント数）が多い動画が引っかかっている気も？\n",
    "for history in histories:\n",
    "    print('閲覧した動画')\n",
    "    print(titles[history])\n",
    "    users_id = np.where(X_modified[history]==1)[0]\n",
    "    users = X_modified.T[users_id]\n",
    "    users_sum = np.sum(users, axis=0)\n",
    "    # ランキングする\n",
    "    ranking = np.argsort(users_sum)[::-1]\n",
    "    same_channel = 0\n",
    "    print('オススメの動画')\n",
    "    for rank in ranking[1:4]:\n",
    "        if channels[rank] == channels[history]:\n",
    "            same_channel += 1\n",
    "        print(rank, titles[rank])\n",
    "#     print('同じチャンネルの動画数 :', same_channel)\n",
    "    print('')"
   ]
  },
  {
   "cell_type": "code",
   "execution_count": 89,
   "metadata": {},
   "outputs": [
    {
     "data": {
      "image/png": "[encoded data removed]",
      "text/plain": [
       "<Figure size 640x480 with 1 Axes>"
      ]
     },
     "metadata": {},
     "output_type": "display_data"
    }
   ],
   "source": [
    "# チャンネルを跨ぐ数を可視化\n",
    "X_modified2 = np.zeros((32, X_modified.shape[1]))\n",
    "for i in range(X_modified.shape[0]):\n",
    "    channel = channels[i]\n",
    "    X_modified2[channel] += X_modified[i]\n",
    "X_modified2[X_modified2 > 0] = 1\n",
    "    \n",
    "X_sum2 = np.sum(X_modified2, axis=0)\n",
    "fig = plt.figure()\n",
    "ax = fig.add_subplot(1, 1, 1)\n",
    "ax.hist(X_sum2, bins=np.arange(10)+1, histtype='barstacked', ec='black')\n",
    "plt.show()"
   ]
  },
  {
   "cell_type": "code",
   "execution_count": 95,
   "metadata": {},
   "outputs": [],
   "source": [
    "def output_html_recommend(videos, indexes):\n",
    "    html = ''\n",
    "    html += '<div style=\"float:left;\">'\n",
    "    # html += 'source: '\n",
    "    html += ('<img src=\"'+np.array(videos['Thumbnail'])[indexes[0]] +' \"alt=\"取得できませんでした\" width=\"200\">')\n",
    "    html += ' → '\n",
    "    for i in indexes[1:]:\n",
    "        html += ('<img src=\"'+np.array(videos['Thumbnail'])[i] +' \"alt=\"取得できませんでした\" width=\"200\">')\n",
    "        # html += ('<a href=\"https://www.youtube.com/watch?v='+np.array(videos['Id'])[i]+'\">#'+str(i)+'. '+np.array(videos['Title'])[i]+'</a>')\n",
    "    html += '</div>'\n",
    "    return html\n",
    "\n",
    "recommend_ids = [5, 2, 7]"
   ]
  },
  {
   "cell_type": "code",
   "execution_count": 96,
   "metadata": {},
   "outputs": [
    {
     "data": {
      "text/html": [
       "<div style=\"float:left;\"><img src=\"https://i.ytimg.com/vi/PNA-sTiC0Ds/hqdefault.jpg \"alt=\"取得できませんでした\" width=\"200\"> → <img src=\"https://i.ytimg.com/vi/4muYzftomAE/hqdefault.jpg \"alt=\"取得できませんでした\" width=\"200\"><img src=\"https://i.ytimg.com/vi/j6P_m6adkgc/hqdefault.jpg \"alt=\"取得できませんでした\" width=\"200\"></div>"
      ],
      "text/plain": [
       "<IPython.core.display.HTML object>"
      ]
     },
     "execution_count": 96,
     "metadata": {},
     "output_type": "execute_result"
    }
   ],
   "source": [
    "HTML(output_html_recommend(comments, recommend_ids))"
   ]
  },
  {
   "cell_type": "code",
   "execution_count": 99,
   "metadata": {},
   "outputs": [
    {
     "name": "stderr",
     "output_type": "stream",
     "text": [
      "/Users/shinkaitomomichi/opt/anaconda3/envs/study-youtube/lib/python3.7/site-packages/sklearn/manifold/_t_sne.py:783: FutureWarning: The default initialization in TSNE will change from 'random' to 'pca' in 1.2.\n",
      "  FutureWarning,\n",
      "/Users/shinkaitomomichi/opt/anaconda3/envs/study-youtube/lib/python3.7/site-packages/sklearn/manifold/_t_sne.py:793: FutureWarning: The default learning rate in TSNE will change from 200.0 to 'auto' in 1.2.\n",
      "  FutureWarning,\n",
      "No handles with labels found to put in legend.\n"
     ]
    },
    {
     "data": {
      "image/png": "[encoded data removed]",
      "text/plain": [
       "<Figure size 1200x800 with 1 Axes>"
      ]
     },
     "metadata": {},
     "output_type": "display_data"
    }
   ],
   "source": [
    "# t-sneでチャンネルごとに可視化\n",
    "tsne = TSNE(n_components=2, random_state = 0, perplexity = 30, n_iter = 1000)\n",
    "X_embedded = tsne.fit_transform(X_modified)\n",
    "\n",
    "ddf = pd.DataFrame(X_embedded, columns = ['col1', 'col2'])\n",
    "channels = np.array(comments['ChannelModified'])\n",
    "\n",
    "scat_x, scat_y = np.array(ddf['col1']), np.array(ddf['col2'])\n",
    "# channel_names = ['Rushia Uruha', 'Suisei Hoshimachi', 'Aqua Minato', 'Coco Kiryu', 'Hololive Production', 'Mel Yozora', 'Roboco', 'Miko Sakura', 'Fubuki Shirakami', 'Matsuri Natsuiro']\n",
    "# colors =  [\"g\", \"b\", \"aqua\", \"orange\", \"k\", \"yellow\", \"red\", \"pink\", \"lightgray\", \"gold\"]\n",
    "plt.figure(figsize = (12, 8))\n",
    "for i in range(2):\n",
    "    # plt.scatter(scat_x[channels==i], scat_y[channels==i], label=channel_names[i], color=colors[i])\n",
    "    plt.scatter(scat_x[channels==i], scat_y[channels==i])\n",
    "plt.legend(loc='upper right',\n",
    "           bbox_to_anchor=(1.3, 0.7, 0, 0), \n",
    "           fontsize=15)\n",
    "plt.show()"
   ]
  }
 ],
 "metadata": {
  "kernelspec": {
   "display_name": "study-youtube",
   "language": "python",
   "name": "study-youtube"
  },
  "language_info": {
   "codemirror_mode": {
    "name": "ipython",
    "version": 3
   },
   "file_extension": ".py",
   "mimetype": "text/x-python",
   "name": "python",
   "nbconvert_exporter": "python",
   "pygments_lexer": "ipython3",
   "version": "3.7.10"
  }
 },
 "nbformat": 4,
 "nbformat_minor": 4
}
